{
 "cells": [
  {
   "cell_type": "markdown",
   "metadata": {
    "collapsed": true,
    "pycharm": {
     "name": "#%% md\n"
    }
   },
   "source": [
    "## Project setup\n",
    "Configure imports and setup the connection to the Alpaca API"
   ]
  },
  {
   "cell_type": "code",
   "execution_count": 1,
   "outputs": [],
   "source": [
    "import os\n",
    "from dotenv import load_dotenv\n",
    "from alpaca_trade_api.rest import REST, TimeFrame\n",
    "from alpaca_trade_api.stream import Stream\n",
    "import backtrader as bt\n",
    "import matplotlib\n",
    "import pandas as pd\n",
    "from alpaca_trade_api import TimeFrameUnit"
   ],
   "metadata": {
    "collapsed": false,
    "pycharm": {
     "name": "#%%\n"
    }
   }
  },
  {
   "cell_type": "code",
   "execution_count": 2,
   "outputs": [],
   "source": [
    "load_dotenv()\n",
    "\n",
    "alpaca_endpoint = 'https://paper-api.alpaca.markets'\n",
    "alpaca_api_key = os.getenv('ALPACA_API_KEY')\n",
    "alpaca_secret_key = os.getenv('ALPACA_SECRET_KEY')\n",
    "\n",
    "rest_api = REST(alpaca_api_key, alpaca_secret_key, alpaca_endpoint)"
   ],
   "metadata": {
    "collapsed": false,
    "pycharm": {
     "name": "#%%\n"
    }
   }
  },
  {
   "cell_type": "markdown",
   "source": [
    "# Configure Base algorithim"
   ],
   "metadata": {
    "collapsed": false,
    "pycharm": {
     "name": "#%% md\n"
    }
   }
  },
  {
   "cell_type": "code",
   "execution_count": null,
   "outputs": [],
   "source": [
    "# Creates a Function to perform backtesting using the alpaca API\n",
    "def run_backtest(strategy, symbols, start, end, timeframe=TimeFrame.Day, cash=10000):\n",
    "\t\"\"\"params:\n",
    "          strategy: the strategy you wish to backtest, an instance of backtrader.Strategy\n",
    "          symbols: the symbol (str) or list of symbols List[str] you wish to backtest on\n",
    "          start: start date of backtest in format 'YYYY-MM-DD'\n",
    "          end: end date of backtest in format: 'YYYY-MM-DD'\n",
    "          timeframe: the timeframe the strategy trades on (size of bars) -\n",
    "                      1 min: TimeFrame.Minute, 1 day: TimeFrame.Day, 5 min: TimeFrame(5, TimeFrameUnit.Minute)\n",
    "          cash: the starting cash of backtest\n",
    "    \"\"\"\n",
    "\n",
    "\t# initialize backtrader broker\n",
    "\tcerebro = bt.Cerebro(stdstats=True)\n",
    "\tcerebro.broker.setcash(cash)\n",
    "\n",
    "\t# add strategy\n",
    "\tcerebro.addstrategy(strategy)\n",
    "\n",
    "\t# add analytics\n",
    "\t# cerebro.addobserver(bt.observers.Value)\n",
    "\t# cerebro.addobserver(bt.observers.BuySell)\n",
    "\tcerebro.addanalyzer(bt.analyzers.SharpeRatio, _name='mysharpe')\n",
    "\t# historical data request\n",
    "\tif type(symbols) == str:\n",
    "\t\tsymbol = symbols\n",
    "\t\talpaca_data = rest_api.get_bars(symbol, timeframe, start, end, adjustment='all').df\n",
    "\t\tdata = bt.feeds.PandasData(dataname=alpaca_data, name=symbol)\n",
    "\t\tcerebro.adddata(data)\n",
    "\telif type(symbols) == list or type(symbols) == set:\n",
    "\t\tfor symbol in symbols:\n",
    "\t\t\talpaca_data = rest_api.get_bars(symbol, timeframe, start, end, adjustment='all').df\n",
    "\t\t\tdata = bt.feeds.PandasData(dataname=alpaca_data, name=symbol)\n",
    "\t\t\tcerebro.adddata(data)\n",
    "\n",
    "\n",
    "\t# run\n",
    "\tinitial_portfolio_value = cerebro.broker.getvalue()\n",
    "\tprint(f'Starting Portfolio Value: {initial_portfolio_value}')\n",
    "\tresults = cerebro.run()\n",
    "\tfinal_portfolio_value = cerebro.broker.getvalue()\n",
    "\tprint(f'Final Portfolio Value: {final_portfolio_value} ---> Return: {(final_portfolio_value/initial_portfolio_value - 1)*100}%')\n",
    "\n",
    "\tstrat = results[0]\n",
    "\tprint('Sharpe Ratio:', strat.analyzers.mysharpe.get_analysis()['sharperatio'])\n",
    "\tcerebro.plot(iplot= False)"
   ],
   "metadata": {
    "collapsed": false,
    "pycharm": {
     "name": "#%%\n"
    }
   }
  },
  {
   "cell_type": "code",
   "execution_count": 7,
   "outputs": [
    {
     "data": {
      "text/plain": "                              open    high     low    close   volume  \\\ntimestamp                                                              \n2022-02-01 09:00:00+00:00  450.200  450.55  450.09  450.220     9050   \n2022-02-01 09:05:00+00:00  450.260  450.26  449.90  449.950    28362   \n2022-02-01 09:10:00+00:00  449.900  450.23  449.88  450.050     4659   \n2022-02-01 09:15:00+00:00  449.880  450.08  449.83  449.870     1404   \n2022-02-01 09:20:00+00:00  449.750  449.75  449.25  449.250     1947   \n...                            ...     ...     ...      ...      ...   \n2022-02-24 20:05:00+00:00  424.540  424.75  424.19  424.230  1947482   \n2022-02-24 20:10:00+00:00  424.230  424.79  424.07  424.720  1783091   \n2022-02-24 20:15:00+00:00  424.725  424.81  424.11  424.755  2204455   \n2022-02-24 20:20:00+00:00  424.750  424.80  423.94  424.672  2131888   \n2022-02-24 20:25:00+00:00  424.660  425.05  423.65  423.870  2769811   \n\n                           trade_count        vwap  \ntimestamp                                           \n2022-02-01 09:00:00+00:00           78  450.407316  \n2022-02-01 09:05:00+00:00          111  449.981411  \n2022-02-01 09:10:00+00:00           41  450.037246  \n2022-02-01 09:15:00+00:00           38  449.915406  \n2022-02-01 09:20:00+00:00           30  449.357011  \n...                                ...         ...  \n2022-02-24 20:05:00+00:00        22604  424.169355  \n2022-02-24 20:10:00+00:00        19490  424.128639  \n2022-02-24 20:15:00+00:00        19744  423.878885  \n2022-02-24 20:20:00+00:00        18356  423.921074  \n2022-02-24 20:25:00+00:00        26637  424.035201  \n\n[3184 rows x 7 columns]",
      "text/html": "<div>\n<style scoped>\n    .dataframe tbody tr th:only-of-type {\n        vertical-align: middle;\n    }\n\n    .dataframe tbody tr th {\n        vertical-align: top;\n    }\n\n    .dataframe thead th {\n        text-align: right;\n    }\n</style>\n<table border=\"1\" class=\"dataframe\">\n  <thead>\n    <tr style=\"text-align: right;\">\n      <th></th>\n      <th>open</th>\n      <th>high</th>\n      <th>low</th>\n      <th>close</th>\n      <th>volume</th>\n      <th>trade_count</th>\n      <th>vwap</th>\n    </tr>\n    <tr>\n      <th>timestamp</th>\n      <th></th>\n      <th></th>\n      <th></th>\n      <th></th>\n      <th></th>\n      <th></th>\n      <th></th>\n    </tr>\n  </thead>\n  <tbody>\n    <tr>\n      <th>2022-02-01 09:00:00+00:00</th>\n      <td>450.200</td>\n      <td>450.55</td>\n      <td>450.09</td>\n      <td>450.220</td>\n      <td>9050</td>\n      <td>78</td>\n      <td>450.407316</td>\n    </tr>\n    <tr>\n      <th>2022-02-01 09:05:00+00:00</th>\n      <td>450.260</td>\n      <td>450.26</td>\n      <td>449.90</td>\n      <td>449.950</td>\n      <td>28362</td>\n      <td>111</td>\n      <td>449.981411</td>\n    </tr>\n    <tr>\n      <th>2022-02-01 09:10:00+00:00</th>\n      <td>449.900</td>\n      <td>450.23</td>\n      <td>449.88</td>\n      <td>450.050</td>\n      <td>4659</td>\n      <td>41</td>\n      <td>450.037246</td>\n    </tr>\n    <tr>\n      <th>2022-02-01 09:15:00+00:00</th>\n      <td>449.880</td>\n      <td>450.08</td>\n      <td>449.83</td>\n      <td>449.870</td>\n      <td>1404</td>\n      <td>38</td>\n      <td>449.915406</td>\n    </tr>\n    <tr>\n      <th>2022-02-01 09:20:00+00:00</th>\n      <td>449.750</td>\n      <td>449.75</td>\n      <td>449.25</td>\n      <td>449.250</td>\n      <td>1947</td>\n      <td>30</td>\n      <td>449.357011</td>\n    </tr>\n    <tr>\n      <th>...</th>\n      <td>...</td>\n      <td>...</td>\n      <td>...</td>\n      <td>...</td>\n      <td>...</td>\n      <td>...</td>\n      <td>...</td>\n    </tr>\n    <tr>\n      <th>2022-02-24 20:05:00+00:00</th>\n      <td>424.540</td>\n      <td>424.75</td>\n      <td>424.19</td>\n      <td>424.230</td>\n      <td>1947482</td>\n      <td>22604</td>\n      <td>424.169355</td>\n    </tr>\n    <tr>\n      <th>2022-02-24 20:10:00+00:00</th>\n      <td>424.230</td>\n      <td>424.79</td>\n      <td>424.07</td>\n      <td>424.720</td>\n      <td>1783091</td>\n      <td>19490</td>\n      <td>424.128639</td>\n    </tr>\n    <tr>\n      <th>2022-02-24 20:15:00+00:00</th>\n      <td>424.725</td>\n      <td>424.81</td>\n      <td>424.11</td>\n      <td>424.755</td>\n      <td>2204455</td>\n      <td>19744</td>\n      <td>423.878885</td>\n    </tr>\n    <tr>\n      <th>2022-02-24 20:20:00+00:00</th>\n      <td>424.750</td>\n      <td>424.80</td>\n      <td>423.94</td>\n      <td>424.672</td>\n      <td>2131888</td>\n      <td>18356</td>\n      <td>423.921074</td>\n    </tr>\n    <tr>\n      <th>2022-02-24 20:25:00+00:00</th>\n      <td>424.660</td>\n      <td>425.05</td>\n      <td>423.65</td>\n      <td>423.870</td>\n      <td>2769811</td>\n      <td>26637</td>\n      <td>424.035201</td>\n    </tr>\n  </tbody>\n</table>\n<p>3184 rows × 7 columns</p>\n</div>"
     },
     "execution_count": 7,
     "metadata": {},
     "output_type": "execute_result"
    }
   ],
   "source": [
    "spy_bars = rest_api.get_bars('SPY', TimeFrame(5, TimeFrameUnit.Minute), '2022-02-01', '2022-02-24').df\n",
    "spy_bars"
   ],
   "metadata": {
    "collapsed": false,
    "pycharm": {
     "name": "#%%\n"
    }
   }
  },
  {
   "cell_type": "code",
   "execution_count": null,
   "outputs": [],
   "source": [
    "def VolBreakout(today_open, prev_high, prev_low,  multiplier):\n",
    "\n",
    "    top_range_calc = prev_high * multiplier\n",
    "    bottom_range_calc = prev_low * multiplier\n",
    "\n",
    "    top_of_range = today_open + top_range_calc\n",
    "    bottom_of_range = today_open - bottom_range_calc\n",
    "\n",
    "    if  > top_of_range:\n",
    "\n"
   ],
   "metadata": {
    "collapsed": false,
    "pycharm": {
     "name": "#%%\n"
    }
   }
  }
 ],
 "metadata": {
  "kernelspec": {
   "display_name": "Python 3",
   "language": "python",
   "name": "python3"
  },
  "language_info": {
   "codemirror_mode": {
    "name": "ipython",
    "version": 2
   },
   "file_extension": ".py",
   "mimetype": "text/x-python",
   "name": "python",
   "nbconvert_exporter": "python",
   "pygments_lexer": "ipython2",
   "version": "2.7.6"
  }
 },
 "nbformat": 4,
 "nbformat_minor": 0
}